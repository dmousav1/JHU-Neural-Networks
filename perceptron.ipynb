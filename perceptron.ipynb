{
 "cells": [
  {
   "cell_type": "code",
   "execution_count": 19,
   "metadata": {},
   "outputs": [],
   "source": [
    "import numpy as np\n",
    "\n",
    "class Perceptron:\n",
    "    def __init__(self, weights, desired_output, bias, eta):  \n",
    "        self.weights = np.array(weights)\n",
    "        self.bias = bias\n",
    "        self.desired_output = desired_output\n",
    "        self.eta = eta\n",
    "        self.delta_weights = np.zeros(len(weights))\n",
    "        self.delta_bias = 0.0\n",
    "        self.activity = 0.0\n",
    "        self.activation = 0.0\n",
    "        self.delta = 0.0\n",
    "\n",
    "    # Calculate activity\n",
    "    def calc_activity(self, input):\n",
    "        input = np.array(input)\n",
    "        self.activity = self.bias + np.dot(self.weights, input)\n",
    "    \n",
    "    # Sigmoid activation function\n",
    "    def calc_activation(self):\n",
    "        self.activation = 1 / (1 + np.exp(-self.activity))\n",
    "        \n",
    "    # Calculate delta and set delta weights and bias\n",
    "    def set_delta_weights(self, input):\n",
    "        input = np.array(input)\n",
    "        activation_derivative = self.activation * (1 - self.activation)  # Derivative of sigmoid\n",
    "        self.delta = (self.activation - self.desired_output) * activation_derivative\n",
    "        self.delta_weights = self.eta * self.delta * input\n",
    "        self.delta_bias = self.eta * self.delta\n",
    "    \n",
    "    # Update weights and bias using delta\n",
    "    def update_weights(self):\n",
    "        self.weights = self.weights - self.delta_weights\n",
    "        self.bias = self.bias - self.delta_bias\n",
    "    \n",
    "    # Train the Perceptron for a certain number of iterations\n",
    "    def train(self, input, iterations):\n",
    "        for i in range(iterations):\n",
    "            # Calculate activity and activation. Set delta weights & bias. Update weights and bias. Print each iteration.\n",
    "            self.calc_activity(input)\n",
    "            self.calc_activation()\n",
    "            self.set_delta_weights(input)\n",
    "            self.update_weights()\n",
    "            print(f\"Iteration {i+1}: Weights = {self.weights}, Bias = {self.bias}, Activation = {self.activation}\")\n"
   ]
  },
  {
   "cell_type": "code",
   "execution_count": null,
   "metadata": {},
   "outputs": [],
   "source": [
    "# Question 1\n",
    "weights = [0.24, 0.88]\n",
    "bias = 0.0\n",
    "eta = 5.0\n",
    "desired_output = 0.95\n",
    "iterations = 75\n",
    "\n",
    "# Set Perceptron\n",
    "perceptron = Perceptron(weights, desired_output, bias, eta) # type: ignore\n",
    "\n",
    "# Set Inputs and Calculate Acitivity; Calculate Activation\n",
    "inputs = [0.8, 0.9]\n",
    "perceptron.calc_activity(inputs)\n",
    "perceptron.calc_activation()\n",
    "print(perceptron.activation)\n",
    "\n",
    "# Question 2\n",
    "perceptron.train(inputs, iterations)"
   ]
  },
  {
   "cell_type": "code",
   "execution_count": null,
   "metadata": {},
   "outputs": [],
   "source": [
    "# Question 3\n",
    "weights = [0.24, 0.88]\n",
    "bias = 0.0\n",
    "eta = 5.0\n",
    "desired_output = 0.15\n",
    "iterations = 30\n",
    "\n",
    "# Set Perceptron\n",
    "perceptron = Perceptron(weights, desired_output, bias, eta) # type: ignore\n",
    "\n",
    "# Set Inputs and Calculate Acitivity; Calculate Activation\n",
    "inputs = [0.8, 0.9]\n",
    "perceptron.train(inputs, iterations)"
   ]
  }
 ],
 "metadata": {
  "kernelspec": {
   "display_name": "base",
   "language": "python",
   "name": "python3"
  },
  "language_info": {
   "codemirror_mode": {
    "name": "ipython",
    "version": 3
   },
   "file_extension": ".py",
   "mimetype": "text/x-python",
   "name": "python",
   "nbconvert_exporter": "python",
   "pygments_lexer": "ipython3",
   "version": "3.12.4"
  }
 },
 "nbformat": 4,
 "nbformat_minor": 2
}
