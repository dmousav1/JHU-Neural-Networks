{
 "cells": [
  {
   "cell_type": "code",
   "execution_count": null,
   "metadata": {},
   "outputs": [],
   "source": [
    "%run \"C:/Users/dc1mo/Documents/GitHub/JHU-Neural-Networks/perceptron.ipynb\"\n",
    "# Question 1\n",
    "weights = [0.24, 0.88]\n",
    "bias = 0.0\n",
    "eta = 5.0\n",
    "desired_output = 0.95\n",
    "iterations = 75\n",
    "\n",
    "# Set Perceptron\n",
    "perceptron = Perceptron(weights, desired_output, bias, eta) # type: ignore\n",
    "\n",
    "# Set Inputs and Calculate Acitivity; Calculate Activation\n",
    "inputs = [0.8, 0.9]\n",
    "perceptron.calc_activity(inputs)\n",
    "perceptron.calc_activation()\n",
    "print(f\"Activation before weight update: {perceptron.activation:.4f}\")\n",
    "\n",
    "# Question 2\n",
    "perceptron.train(inputs, iterations)\n"
   ]
  },
  {
   "cell_type": "code",
   "execution_count": null,
   "metadata": {},
   "outputs": [],
   "source": [
    "# Question 3\n",
    "weights = [0.24, 0.88]\n",
    "bias = 0.0\n",
    "eta = 5.0\n",
    "desired_output = 0.15\n",
    "iterations = 30\n",
    "\n",
    "# Set Perceptron\n",
    "perceptron = Perceptron(weights, desired_output, bias, eta) # type: ignore\n",
    "\n",
    "# Set Inputs and Calculate Acitivity; Calculate Activation\n",
    "inputs = [0.8, 0.9]\n",
    "perceptron.train(inputs, iterations)"
   ]
  }
 ],
 "metadata": {
  "kernelspec": {
   "display_name": "base",
   "language": "python",
   "name": "python3"
  },
  "language_info": {
   "codemirror_mode": {
    "name": "ipython",
    "version": 3
   },
   "file_extension": ".py",
   "mimetype": "text/x-python",
   "name": "python",
   "nbconvert_exporter": "python",
   "pygments_lexer": "ipython3",
   "version": "3.12.4"
  }
 },
 "nbformat": 4,
 "nbformat_minor": 2
}
